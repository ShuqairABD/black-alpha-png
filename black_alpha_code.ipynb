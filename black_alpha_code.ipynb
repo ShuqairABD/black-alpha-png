{
  "nbformat": 4,
  "nbformat_minor": 0,
  "metadata": {
    "colab": {
      "provenance": [],
      "authorship_tag": "ABX9TyNgWm9mJJh5deiT7apA/9QD",
      "include_colab_link": true
    },
    "kernelspec": {
      "name": "python3",
      "display_name": "Python 3"
    },
    "language_info": {
      "name": "python"
    }
  },
  "cells": [
    {
      "cell_type": "markdown",
      "metadata": {
        "id": "view-in-github",
        "colab_type": "text"
      },
      "source": [
        "<a href=\"https://colab.research.google.com/github/ShuqairABD/black-alpha-png/blob/main/black_alpha_code.ipynb\" target=\"_parent\"><img src=\"https://colab.research.google.com/assets/colab-badge.svg\" alt=\"Open In Colab\"/></a>"
      ]
    },
    {
      "cell_type": "code",
      "source": [
        "!pip install rembg\n",
        "from rembg import remove\n",
        "from PIL import Image\n",
        "import os\n",
        "from os import listdir\n",
        "from zipfile import ZipFile\n",
        "import numpy as np\n",
        "import shutil\n",
        "from google.colab import files"
      ],
      "metadata": {
        "id": "YUBFL7kRbo94"
      },
      "execution_count": null,
      "outputs": []
    },
    {
      "cell_type": "code",
      "source": [
        "uploaded = files.upload()"
      ],
      "metadata": {
        "id": "G9XIRhsSeQGE"
      },
      "execution_count": null,
      "outputs": []
    },
    {
      "cell_type": "code",
      "source": [
        "zip_file_path = '/content/test alpha.zip'\n",
        "extracted_folder = '/content/extracted_images'\n",
        "output_folder = '/content/extracted_images_with_background_removed'"
      ],
      "metadata": {
        "id": "Y207Dy4rbxnk"
      },
      "execution_count": null,
      "outputs": []
    },
    {
      "cell_type": "code",
      "source": [
        "os.makedirs(extracted_folder, exist_ok=True)\n",
        "os.makedirs(output_folder, exist_ok=True)"
      ],
      "metadata": {
        "id": "1_fzEqgeb3C9"
      },
      "execution_count": null,
      "outputs": []
    },
    {
      "cell_type": "code",
      "source": [
        "# Функция для обработки изображений\n",
        "def process_images(input_folder, output_folder):\n",
        "    # Проход по всем файлам в указанной папке\n",
        "    for root, dirs, files in os.walk(input_folder):\n",
        "        for file_name in files:\n",
        "            try:\n",
        "                # Формирование полного пути к входному файлу\n",
        "                input_path = os.path.join(root, file_name)\n",
        "\n",
        "                # Загрузка входного изображения\n",
        "                input_image = Image.open(input_path)\n",
        "\n",
        "                # Удаление фона\n",
        "                output_image = remove(input_image)\n",
        "\n",
        "                # Преобразование выходного изображения в режим RGBA\n",
        "                output_image_rgba = output_image.convert('RGBA')\n",
        "\n",
        "                # Создание черного альфа-канала\n",
        "                alpha = np.full_like(output_image_rgba.split()[3], 255)\n",
        "\n",
        "                # Применение черного альфа-канала\n",
        "                output_image_rgba.putalpha(Image.fromarray(alpha))\n",
        "\n",
        "                # Формирование полного пути к выходному файлу\n",
        "                output_path = os.path.join(output_folder, os.path.relpath(input_path, input_folder))\n",
        "\n",
        "                # Создание папки для выходного файла, если её нет\n",
        "                os.makedirs(os.path.dirname(output_path), exist_ok=True)\n",
        "\n",
        "                # Сохранение выходного изображения\n",
        "                output_image_rgba.save(output_path)\n",
        "\n",
        "                print(f\"Фон успешно удален для: {file_name}\")\n",
        "\n",
        "            except Exception as e:\n",
        "                print(f\"Ошибка при обработке {file_name}: {str(e)}\")\n",
        "\n",
        "\n",
        "# Извлечение содержимого zip-файла\n",
        "with ZipFile(zip_file_path, 'r') as zip_ref:\n",
        "    zip_ref.extractall(extracted_folder)\n",
        "\n",
        "# Обработка изображений в извлеченной папке\n",
        "process_images(extracted_folder, output_folder)\n",
        "\n",
        "print(\"Удаление фона завершено.\")\n"
      ],
      "metadata": {
        "id": "d6IShPgOhpSY"
      },
      "execution_count": null,
      "outputs": []
    },
    {
      "cell_type": "code",
      "source": [
        "shutil.make_archive(output_folder, 'zip', output_folder)\n",
        "\n",
        "files.download(output_folder + '.zip')"
      ],
      "metadata": {
        "id": "6ItWYhzMcETd"
      },
      "execution_count": null,
      "outputs": []
    }
  ]
}